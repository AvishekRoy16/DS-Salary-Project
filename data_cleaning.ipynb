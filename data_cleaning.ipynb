{
 "cells": [
  {
   "cell_type": "code",
   "execution_count": 1,
   "metadata": {},
   "outputs": [],
   "source": [
    "import pandas as pd"
   ]
  },
  {
   "cell_type": "code",
   "execution_count": 2,
   "metadata": {},
   "outputs": [
    {
     "name": "stdout",
     "output_type": "stream",
     "text": [
      "(690, 13)\n"
     ]
    },
    {
     "data": {
      "text/html": [
       "<div>\n",
       "<style scoped>\n",
       "    .dataframe tbody tr th:only-of-type {\n",
       "        vertical-align: middle;\n",
       "    }\n",
       "\n",
       "    .dataframe tbody tr th {\n",
       "        vertical-align: top;\n",
       "    }\n",
       "\n",
       "    .dataframe thead th {\n",
       "        text-align: right;\n",
       "    }\n",
       "</style>\n",
       "<table border=\"1\" class=\"dataframe\">\n",
       "  <thead>\n",
       "    <tr style=\"text-align: right;\">\n",
       "      <th></th>\n",
       "      <th>Unnamed: 0</th>\n",
       "      <th>Job Title</th>\n",
       "      <th>Salary Estimate</th>\n",
       "      <th>Job Description</th>\n",
       "      <th>Rating</th>\n",
       "      <th>Company Name</th>\n",
       "      <th>Location</th>\n",
       "      <th>Size</th>\n",
       "      <th>Founded</th>\n",
       "      <th>Type of ownership</th>\n",
       "      <th>Industry</th>\n",
       "      <th>Sector</th>\n",
       "      <th>Revenue</th>\n",
       "    </tr>\n",
       "  </thead>\n",
       "  <tbody>\n",
       "    <tr>\n",
       "      <th>0</th>\n",
       "      <td>0</td>\n",
       "      <td>Data Scientist</td>\n",
       "      <td>₹9,96,452 /yr (est.)</td>\n",
       "      <td>Data Science Analyst\\nQualification : BE, MBA\\...</td>\n",
       "      <td>NaN</td>\n",
       "      <td>Six Sails Group</td>\n",
       "      <td>Farīdābād</td>\n",
       "      <td>NaN</td>\n",
       "      <td>NaN</td>\n",
       "      <td>NaN</td>\n",
       "      <td>NaN</td>\n",
       "      <td>NaN</td>\n",
       "      <td>NaN</td>\n",
       "    </tr>\n",
       "    <tr>\n",
       "      <th>1</th>\n",
       "      <td>1</td>\n",
       "      <td>Data Scientist</td>\n",
       "      <td>₹5,66,099 /yr (est.)</td>\n",
       "      <td>Responsibilities\\n• Anchor ML development trac...</td>\n",
       "      <td>3.9</td>\n",
       "      <td>Infosys Limited\\n3.9</td>\n",
       "      <td>Bangalore</td>\n",
       "      <td>10000+ Employees</td>\n",
       "      <td>1981.0</td>\n",
       "      <td>Company - Public</td>\n",
       "      <td>Information Technology Support Services</td>\n",
       "      <td>Information Technology</td>\n",
       "      <td>$10+ billion (USD)</td>\n",
       "    </tr>\n",
       "    <tr>\n",
       "      <th>2</th>\n",
       "      <td>2</td>\n",
       "      <td>Sr. Data Scientist</td>\n",
       "      <td>₹9,60,000 /mo (est.)</td>\n",
       "      <td>Be part of team using advanced real-time scale...</td>\n",
       "      <td>3.9</td>\n",
       "      <td>Lotus Interworks Inc\\n3.9</td>\n",
       "      <td>Cochin</td>\n",
       "      <td>1 to 50 Employees</td>\n",
       "      <td>1997.0</td>\n",
       "      <td>Company - Private</td>\n",
       "      <td>Computer Hardware Development</td>\n",
       "      <td>Information Technology</td>\n",
       "      <td>$1 to $5 million (USD)</td>\n",
       "    </tr>\n",
       "    <tr>\n",
       "      <th>3</th>\n",
       "      <td>3</td>\n",
       "      <td>Data Scientist</td>\n",
       "      <td>NaN</td>\n",
       "      <td>Data Scientist\\nJob Description\\nThe Data Scie...</td>\n",
       "      <td>3.1</td>\n",
       "      <td>Kimberly-Clark\\n4.0</td>\n",
       "      <td>Bangalore</td>\n",
       "      <td>10000+ Employees</td>\n",
       "      <td>1872.0</td>\n",
       "      <td>Company - Public</td>\n",
       "      <td>Consumer Product Manufacturing</td>\n",
       "      <td>Manufacturing</td>\n",
       "      <td>$10+ billion (USD)</td>\n",
       "    </tr>\n",
       "    <tr>\n",
       "      <th>4</th>\n",
       "      <td>4</td>\n",
       "      <td>Market Data - Data Scientist</td>\n",
       "      <td>NaN</td>\n",
       "      <td>Market Data Data-Scientist\\n\\nRole\\nBuild Pyth...</td>\n",
       "      <td>3.6</td>\n",
       "      <td>Wells Fargo\\n3.6</td>\n",
       "      <td>Telangana</td>\n",
       "      <td>10000+ Employees</td>\n",
       "      <td>1852.0</td>\n",
       "      <td>Company - Public</td>\n",
       "      <td>Banking &amp; Lending</td>\n",
       "      <td>Finance</td>\n",
       "      <td>$10+ billion (USD)</td>\n",
       "    </tr>\n",
       "    <tr>\n",
       "      <th>5</th>\n",
       "      <td>5</td>\n",
       "      <td>Data Scientist</td>\n",
       "      <td>NaN</td>\n",
       "      <td>About this role:\\n\\nThe role involves developi...</td>\n",
       "      <td>3.6</td>\n",
       "      <td>Wells Fargo\\n3.6</td>\n",
       "      <td>Bangalore</td>\n",
       "      <td>10000+ Employees</td>\n",
       "      <td>1852.0</td>\n",
       "      <td>Company - Public</td>\n",
       "      <td>Banking &amp; Lending</td>\n",
       "      <td>Finance</td>\n",
       "      <td>$10+ billion (USD)</td>\n",
       "    </tr>\n",
       "    <tr>\n",
       "      <th>6</th>\n",
       "      <td>6</td>\n",
       "      <td>Faculty Member in Data science , FSWD , Cloud ...</td>\n",
       "      <td>₹3,30,000 /mo (est.)</td>\n",
       "      <td>Faculty in Data science, FSWD, Cloud and DevOp...</td>\n",
       "      <td>NaN</td>\n",
       "      <td>Subbarao Vamanan and co</td>\n",
       "      <td>Hyderābād</td>\n",
       "      <td>NaN</td>\n",
       "      <td>NaN</td>\n",
       "      <td>NaN</td>\n",
       "      <td>NaN</td>\n",
       "      <td>NaN</td>\n",
       "      <td>NaN</td>\n",
       "    </tr>\n",
       "    <tr>\n",
       "      <th>7</th>\n",
       "      <td>7</td>\n",
       "      <td>DNA_Analytics</td>\n",
       "      <td>₹8,12,637 /yr (est.)</td>\n",
       "      <td>Responsibilities\\nApplies business processes p...</td>\n",
       "      <td>3.9</td>\n",
       "      <td>Infosys Limited\\n3.9</td>\n",
       "      <td>Bangalore</td>\n",
       "      <td>10000+ Employees</td>\n",
       "      <td>1981.0</td>\n",
       "      <td>Company - Public</td>\n",
       "      <td>Information Technology Support Services</td>\n",
       "      <td>Information Technology</td>\n",
       "      <td>$10+ billion (USD)</td>\n",
       "    </tr>\n",
       "    <tr>\n",
       "      <th>8</th>\n",
       "      <td>8</td>\n",
       "      <td>Head of Academics - Data Science</td>\n",
       "      <td>₹7,00,000 /yr (est.)</td>\n",
       "      <td>Job Description:\\nDevelop educational process ...</td>\n",
       "      <td>NaN</td>\n",
       "      <td>Boston Institute of Analytics</td>\n",
       "      <td>Mumbai</td>\n",
       "      <td>NaN</td>\n",
       "      <td>NaN</td>\n",
       "      <td>NaN</td>\n",
       "      <td>NaN</td>\n",
       "      <td>NaN</td>\n",
       "      <td>NaN</td>\n",
       "    </tr>\n",
       "    <tr>\n",
       "      <th>9</th>\n",
       "      <td>9</td>\n",
       "      <td>Technology Lead : Data Science I Machine Learning</td>\n",
       "      <td>₹6,03,777 /yr (est.)</td>\n",
       "      <td>Responsibilities\\nA day in the life of an Info...</td>\n",
       "      <td>3.9</td>\n",
       "      <td>Infosys Limited\\n3.9</td>\n",
       "      <td>Bangalore</td>\n",
       "      <td>10000+ Employees</td>\n",
       "      <td>1981.0</td>\n",
       "      <td>Company - Public</td>\n",
       "      <td>Information Technology Support Services</td>\n",
       "      <td>Information Technology</td>\n",
       "      <td>$10+ billion (USD)</td>\n",
       "    </tr>\n",
       "  </tbody>\n",
       "</table>\n",
       "</div>"
      ],
      "text/plain": [
       "   Unnamed: 0                                          Job Title  \\\n",
       "0           0                                     Data Scientist   \n",
       "1           1                                     Data Scientist   \n",
       "2           2                                 Sr. Data Scientist   \n",
       "3           3                                     Data Scientist   \n",
       "4           4                       Market Data - Data Scientist   \n",
       "5           5                                     Data Scientist   \n",
       "6           6  Faculty Member in Data science , FSWD , Cloud ...   \n",
       "7           7                                      DNA_Analytics   \n",
       "8           8                   Head of Academics - Data Science   \n",
       "9           9  Technology Lead : Data Science I Machine Learning   \n",
       "\n",
       "        Salary Estimate                                    Job Description  \\\n",
       "0  ₹9,96,452 /yr (est.)  Data Science Analyst\\nQualification : BE, MBA\\...   \n",
       "1  ₹5,66,099 /yr (est.)  Responsibilities\\n• Anchor ML development trac...   \n",
       "2  ₹9,60,000 /mo (est.)  Be part of team using advanced real-time scale...   \n",
       "3                   NaN  Data Scientist\\nJob Description\\nThe Data Scie...   \n",
       "4                   NaN  Market Data Data-Scientist\\n\\nRole\\nBuild Pyth...   \n",
       "5                   NaN  About this role:\\n\\nThe role involves developi...   \n",
       "6  ₹3,30,000 /mo (est.)  Faculty in Data science, FSWD, Cloud and DevOp...   \n",
       "7  ₹8,12,637 /yr (est.)  Responsibilities\\nApplies business processes p...   \n",
       "8  ₹7,00,000 /yr (est.)  Job Description:\\nDevelop educational process ...   \n",
       "9  ₹6,03,777 /yr (est.)  Responsibilities\\nA day in the life of an Info...   \n",
       "\n",
       "   Rating                   Company Name   Location               Size  \\\n",
       "0     NaN                Six Sails Group  Farīdābād                NaN   \n",
       "1     3.9           Infosys Limited\\n3.9  Bangalore   10000+ Employees   \n",
       "2     3.9      Lotus Interworks Inc\\n3.9     Cochin  1 to 50 Employees   \n",
       "3     3.1            Kimberly-Clark\\n4.0  Bangalore   10000+ Employees   \n",
       "4     3.6               Wells Fargo\\n3.6  Telangana   10000+ Employees   \n",
       "5     3.6               Wells Fargo\\n3.6  Bangalore   10000+ Employees   \n",
       "6     NaN        Subbarao Vamanan and co  Hyderābād                NaN   \n",
       "7     3.9           Infosys Limited\\n3.9  Bangalore   10000+ Employees   \n",
       "8     NaN  Boston Institute of Analytics     Mumbai                NaN   \n",
       "9     3.9           Infosys Limited\\n3.9  Bangalore   10000+ Employees   \n",
       "\n",
       "   Founded  Type of ownership                                 Industry  \\\n",
       "0      NaN                NaN                                      NaN   \n",
       "1   1981.0   Company - Public  Information Technology Support Services   \n",
       "2   1997.0  Company - Private            Computer Hardware Development   \n",
       "3   1872.0   Company - Public           Consumer Product Manufacturing   \n",
       "4   1852.0   Company - Public                        Banking & Lending   \n",
       "5   1852.0   Company - Public                        Banking & Lending   \n",
       "6      NaN                NaN                                      NaN   \n",
       "7   1981.0   Company - Public  Information Technology Support Services   \n",
       "8      NaN                NaN                                      NaN   \n",
       "9   1981.0   Company - Public  Information Technology Support Services   \n",
       "\n",
       "                   Sector                 Revenue  \n",
       "0                     NaN                     NaN  \n",
       "1  Information Technology      $10+ billion (USD)  \n",
       "2  Information Technology  $1 to $5 million (USD)  \n",
       "3           Manufacturing      $10+ billion (USD)  \n",
       "4                 Finance      $10+ billion (USD)  \n",
       "5                 Finance      $10+ billion (USD)  \n",
       "6                     NaN                     NaN  \n",
       "7  Information Technology      $10+ billion (USD)  \n",
       "8                     NaN                     NaN  \n",
       "9  Information Technology      $10+ billion (USD)  "
      ]
     },
     "execution_count": 2,
     "metadata": {},
     "output_type": "execute_result"
    }
   ],
   "source": [
    "df = pd.read_csv('Data Scientist.csv')\n",
    "print(df.shape)\n",
    "df.head(10)"
   ]
  },
  {
   "cell_type": "markdown",
   "metadata": {},
   "source": [
    "#### Salary"
   ]
  },
  {
   "cell_type": "code",
   "execution_count": 3,
   "metadata": {},
   "outputs": [],
   "source": [
    "# Removing the null values from the Salary Estimate column\n",
    "df = df[df['Salary Estimate'].notna()]\n",
    "\n",
    "# Drop duplicates"
   ]
  },
  {
   "cell_type": "code",
   "execution_count": 4,
   "metadata": {},
   "outputs": [
    {
     "data": {
      "text/plain": [
       "(556, 13)"
      ]
     },
     "execution_count": 4,
     "metadata": {},
     "output_type": "execute_result"
    }
   ],
   "source": [
    "df.shape"
   ]
  },
  {
   "cell_type": "code",
   "execution_count": 5,
   "metadata": {},
   "outputs": [
    {
     "data": {
      "text/html": [
       "<div>\n",
       "<style scoped>\n",
       "    .dataframe tbody tr th:only-of-type {\n",
       "        vertical-align: middle;\n",
       "    }\n",
       "\n",
       "    .dataframe tbody tr th {\n",
       "        vertical-align: top;\n",
       "    }\n",
       "\n",
       "    .dataframe thead th {\n",
       "        text-align: right;\n",
       "    }\n",
       "</style>\n",
       "<table border=\"1\" class=\"dataframe\">\n",
       "  <thead>\n",
       "    <tr style=\"text-align: right;\">\n",
       "      <th></th>\n",
       "      <th>Unnamed: 0</th>\n",
       "      <th>Job Title</th>\n",
       "      <th>Salary Estimate</th>\n",
       "      <th>Job Description</th>\n",
       "      <th>Rating</th>\n",
       "      <th>Company Name</th>\n",
       "      <th>Location</th>\n",
       "      <th>Size</th>\n",
       "      <th>Founded</th>\n",
       "      <th>Type of ownership</th>\n",
       "      <th>Industry</th>\n",
       "      <th>Sector</th>\n",
       "      <th>Revenue</th>\n",
       "    </tr>\n",
       "  </thead>\n",
       "  <tbody>\n",
       "    <tr>\n",
       "      <th>0</th>\n",
       "      <td>0</td>\n",
       "      <td>Data Scientist</td>\n",
       "      <td>₹9,96,452 /yr (est.)</td>\n",
       "      <td>Data Science Analyst\\nQualification : BE, MBA\\...</td>\n",
       "      <td>NaN</td>\n",
       "      <td>Six Sails Group</td>\n",
       "      <td>Farīdābād</td>\n",
       "      <td>NaN</td>\n",
       "      <td>NaN</td>\n",
       "      <td>NaN</td>\n",
       "      <td>NaN</td>\n",
       "      <td>NaN</td>\n",
       "      <td>NaN</td>\n",
       "    </tr>\n",
       "    <tr>\n",
       "      <th>1</th>\n",
       "      <td>1</td>\n",
       "      <td>Data Scientist</td>\n",
       "      <td>₹5,66,099 /yr (est.)</td>\n",
       "      <td>Responsibilities\\n• Anchor ML development trac...</td>\n",
       "      <td>3.9</td>\n",
       "      <td>Infosys Limited\\n3.9</td>\n",
       "      <td>Bangalore</td>\n",
       "      <td>10000+ Employees</td>\n",
       "      <td>1981.0</td>\n",
       "      <td>Company - Public</td>\n",
       "      <td>Information Technology Support Services</td>\n",
       "      <td>Information Technology</td>\n",
       "      <td>$10+ billion (USD)</td>\n",
       "    </tr>\n",
       "    <tr>\n",
       "      <th>2</th>\n",
       "      <td>2</td>\n",
       "      <td>Sr. Data Scientist</td>\n",
       "      <td>₹9,60,000 /mo (est.)</td>\n",
       "      <td>Be part of team using advanced real-time scale...</td>\n",
       "      <td>3.9</td>\n",
       "      <td>Lotus Interworks Inc\\n3.9</td>\n",
       "      <td>Cochin</td>\n",
       "      <td>1 to 50 Employees</td>\n",
       "      <td>1997.0</td>\n",
       "      <td>Company - Private</td>\n",
       "      <td>Computer Hardware Development</td>\n",
       "      <td>Information Technology</td>\n",
       "      <td>$1 to $5 million (USD)</td>\n",
       "    </tr>\n",
       "    <tr>\n",
       "      <th>6</th>\n",
       "      <td>6</td>\n",
       "      <td>Faculty Member in Data science , FSWD , Cloud ...</td>\n",
       "      <td>₹3,30,000 /mo (est.)</td>\n",
       "      <td>Faculty in Data science, FSWD, Cloud and DevOp...</td>\n",
       "      <td>NaN</td>\n",
       "      <td>Subbarao Vamanan and co</td>\n",
       "      <td>Hyderābād</td>\n",
       "      <td>NaN</td>\n",
       "      <td>NaN</td>\n",
       "      <td>NaN</td>\n",
       "      <td>NaN</td>\n",
       "      <td>NaN</td>\n",
       "      <td>NaN</td>\n",
       "    </tr>\n",
       "    <tr>\n",
       "      <th>7</th>\n",
       "      <td>7</td>\n",
       "      <td>DNA_Analytics</td>\n",
       "      <td>₹8,12,637 /yr (est.)</td>\n",
       "      <td>Responsibilities\\nApplies business processes p...</td>\n",
       "      <td>3.9</td>\n",
       "      <td>Infosys Limited\\n3.9</td>\n",
       "      <td>Bangalore</td>\n",
       "      <td>10000+ Employees</td>\n",
       "      <td>1981.0</td>\n",
       "      <td>Company - Public</td>\n",
       "      <td>Information Technology Support Services</td>\n",
       "      <td>Information Technology</td>\n",
       "      <td>$10+ billion (USD)</td>\n",
       "    </tr>\n",
       "  </tbody>\n",
       "</table>\n",
       "</div>"
      ],
      "text/plain": [
       "   Unnamed: 0                                          Job Title  \\\n",
       "0           0                                     Data Scientist   \n",
       "1           1                                     Data Scientist   \n",
       "2           2                                 Sr. Data Scientist   \n",
       "6           6  Faculty Member in Data science , FSWD , Cloud ...   \n",
       "7           7                                      DNA_Analytics   \n",
       "\n",
       "        Salary Estimate                                    Job Description  \\\n",
       "0  ₹9,96,452 /yr (est.)  Data Science Analyst\\nQualification : BE, MBA\\...   \n",
       "1  ₹5,66,099 /yr (est.)  Responsibilities\\n• Anchor ML development trac...   \n",
       "2  ₹9,60,000 /mo (est.)  Be part of team using advanced real-time scale...   \n",
       "6  ₹3,30,000 /mo (est.)  Faculty in Data science, FSWD, Cloud and DevOp...   \n",
       "7  ₹8,12,637 /yr (est.)  Responsibilities\\nApplies business processes p...   \n",
       "\n",
       "   Rating               Company Name   Location               Size  Founded  \\\n",
       "0     NaN            Six Sails Group  Farīdābād                NaN      NaN   \n",
       "1     3.9       Infosys Limited\\n3.9  Bangalore   10000+ Employees   1981.0   \n",
       "2     3.9  Lotus Interworks Inc\\n3.9     Cochin  1 to 50 Employees   1997.0   \n",
       "6     NaN    Subbarao Vamanan and co  Hyderābād                NaN      NaN   \n",
       "7     3.9       Infosys Limited\\n3.9  Bangalore   10000+ Employees   1981.0   \n",
       "\n",
       "   Type of ownership                                 Industry  \\\n",
       "0                NaN                                      NaN   \n",
       "1   Company - Public  Information Technology Support Services   \n",
       "2  Company - Private            Computer Hardware Development   \n",
       "6                NaN                                      NaN   \n",
       "7   Company - Public  Information Technology Support Services   \n",
       "\n",
       "                   Sector                 Revenue  \n",
       "0                     NaN                     NaN  \n",
       "1  Information Technology      $10+ billion (USD)  \n",
       "2  Information Technology  $1 to $5 million (USD)  \n",
       "6                     NaN                     NaN  \n",
       "7  Information Technology      $10+ billion (USD)  "
      ]
     },
     "execution_count": 5,
     "metadata": {},
     "output_type": "execute_result"
    }
   ],
   "source": [
    "df.head()"
   ]
  },
  {
   "cell_type": "code",
   "execution_count": 6,
   "metadata": {},
   "outputs": [],
   "source": [
    "df['monthly'] = df[\"Salary Estimate\"].apply(lambda x: 1 if\"/mo (est.)\" in x.lower() else 0)\n",
    "df['hourly'] = df[\"Salary Estimate\"].apply(lambda x: 1 if\"/hr (est.)\" in x.lower() else 0)"
   ]
  },
  {
   "cell_type": "code",
   "execution_count": 7,
   "metadata": {},
   "outputs": [],
   "source": [
    "salary = df[\"Salary Estimate\"].apply(lambda x: x.split('/')[0])\n",
    "minus_rs = salary.apply(lambda x:x.replace(\"₹\", \"\").replace(\",\", \"\"))"
   ]
  },
  {
   "cell_type": "markdown",
   "metadata": {},
   "source": [
    "#### Rating"
   ]
  },
  {
   "cell_type": "code",
   "execution_count": 8,
   "metadata": {},
   "outputs": [],
   "source": [
    "df[\"Rating\"] = df['Rating'].fillna(-1)\n",
    "df['company_txt'] = df.apply(lambda x :x['Company Name'] if x['Rating'] < 0 else x['Company Name'][:-3], axis=1 )"
   ]
  },
  {
   "cell_type": "code",
   "execution_count": 9,
   "metadata": {},
   "outputs": [
    {
     "data": {
      "text/plain": [
       "0      False\n",
       "1      False\n",
       "2      False\n",
       "6      False\n",
       "7      False\n",
       "       ...  \n",
       "684    False\n",
       "685    False\n",
       "686    False\n",
       "688    False\n",
       "689    False\n",
       "Name: Rating, Length: 556, dtype: bool"
      ]
     },
     "execution_count": 9,
     "metadata": {},
     "output_type": "execute_result"
    }
   ],
   "source": [
    "df[\"Rating\"].isnull()"
   ]
  },
  {
   "cell_type": "markdown",
   "metadata": {},
   "source": [
    "#### Company Age"
   ]
  },
  {
   "cell_type": "code",
   "execution_count": 10,
   "metadata": {},
   "outputs": [],
   "source": [
    "df[\"Founded\"] = df['Founded'].fillna(-1)\n",
    "df['Age'] = df['Founded'].apply( lambda x: x if x<1 else 2022 - x) "
   ]
  },
  {
   "cell_type": "code",
   "execution_count": 11,
   "metadata": {},
   "outputs": [
    {
     "data": {
      "text/plain": [
       "1    400\n",
       "0    156\n",
       "Name: Python, dtype: int64"
      ]
     },
     "execution_count": 11,
     "metadata": {},
     "output_type": "execute_result"
    }
   ],
   "source": [
    "df[\"Python\"] = df[\"Job Description\"].apply(lambda x: 1 if \"python\" in x.lower() else 0)\n",
    "df[\"Python\"].value_counts()"
   ]
  },
  {
   "cell_type": "code",
   "execution_count": 12,
   "metadata": {},
   "outputs": [
    {
     "data": {
      "text/plain": [
       "0    426\n",
       "1    130\n",
       "Name: Deep Learning, dtype: int64"
      ]
     },
     "execution_count": 12,
     "metadata": {},
     "output_type": "execute_result"
    }
   ],
   "source": [
    "df[\"Deep Learning\"] = df[\"Job Description\"].apply(lambda x: 1 if  \"deep learning\" in x.lower() else 0)\n",
    "df[\"Deep Learning\"].value_counts()"
   ]
  },
  {
   "cell_type": "code",
   "execution_count": 13,
   "metadata": {},
   "outputs": [
    {
     "data": {
      "text/plain": [
       "0    414\n",
       "1    142\n",
       "Name: Spark, dtype: int64"
      ]
     },
     "execution_count": 13,
     "metadata": {},
     "output_type": "execute_result"
    }
   ],
   "source": [
    "df[\"Spark\"] = df[\"Job Description\"].apply(lambda x: 1 if  \"spark\" in x.lower() else 0)\n",
    "df[\"Spark\"].value_counts()"
   ]
  },
  {
   "cell_type": "markdown",
   "metadata": {},
   "source": [
    "#### Removing Duplicates"
   ]
  },
  {
   "cell_type": "code",
   "execution_count": 14,
   "metadata": {},
   "outputs": [],
   "source": [
    "df_out = df.drop(['Unnamed: 0'], axis=1)\n",
    "df_out = df_out.drop_duplicates()\n"
   ]
  },
  {
   "cell_type": "code",
   "execution_count": 15,
   "metadata": {},
   "outputs": [],
   "source": [
    "df_out.to_csv(\"Salary_Data_Cleaned.csv\", index = False)"
   ]
  }
 ],
 "metadata": {
  "kernelspec": {
   "display_name": "Python 3.8.5 ('base')",
   "language": "python",
   "name": "python3"
  },
  "language_info": {
   "codemirror_mode": {
    "name": "ipython",
    "version": 3
   },
   "file_extension": ".py",
   "mimetype": "text/x-python",
   "name": "python",
   "nbconvert_exporter": "python",
   "pygments_lexer": "ipython3",
   "version": "3.8.5"
  },
  "orig_nbformat": 4,
  "vscode": {
   "interpreter": {
    "hash": "ffb0cf131d14546b6573224cf3d27e75f0df2bb31d92400f13c23c2c4abb6933"
   }
  }
 },
 "nbformat": 4,
 "nbformat_minor": 2
}
